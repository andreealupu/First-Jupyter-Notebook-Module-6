{
 "cells": [
  {
   "cell_type": "markdown",
   "id": "1c902381-8e3d-48b9-a8b1-a832924899c0",
   "metadata": {},
   "source": [
    "# Data Science Tools and Ecosystem"
   ]
  },
  {
   "cell_type": "markdown",
   "id": "54c3d1f9-ab4d-4a41-a380-5ff66170d3fd",
   "metadata": {},
   "source": [
    "In this notebook, Data Science Tools and Ecosystem are summarized.\n",
    "\n"
   ]
  },
  {
   "cell_type": "markdown",
   "id": "13806ebb-3567-4047-8cd2-6d5d15a29daa",
   "metadata": {},
   "source": [
    "*Objectives:*\n",
    "- List Popular languages for Data Science\n",
    "- Include commonly used libraries\n",
    "- Include Data Science Tools\n",
    "\n",
    "## Author\n",
    "Andreea Lupu\n"
   ]
  },
  {
   "cell_type": "markdown",
   "id": "824a96cb-054e-4919-93c0-25aad1f87423",
   "metadata": {},
   "source": [
    "Some of the popular languages that Data Scientists use are:\n",
    "1. Python\n",
    "2. R\n",
    "3. Java\n",
    "   "
   ]
  },
  {
   "cell_type": "markdown",
   "id": "94ce2aa4-e738-40cb-bec6-f4ba0b897c02",
   "metadata": {},
   "source": [
    "Some of the commonly used libraries used by Data Scientists include:\n",
    "1. pandas\n",
    "2. NumPy\n",
    "3. SciPy\n",
    "4. TensorFlow"
   ]
  },
  {
   "cell_type": "markdown",
   "id": "2785457f-484a-4a82-8062-19544d17efe8",
   "metadata": {},
   "source": [
    "| Data Science Tools|   \n",
    "| -------- |\n",
    "| Jupyter Notebooks  |\n",
    "| RStudio |\n",
    "| VS Code    |"
   ]
  },
  {
   "cell_type": "markdown",
   "id": "27038b33-69f2-43b9-a8b3-3ed2147cb36d",
   "metadata": {},
   "source": [
    "### Below are a few examples of evaluating arithmetic expressions in Python.\n",
    "\n"
   ]
  },
  {
   "cell_type": "code",
   "execution_count": 2,
   "id": "fd42d9ea-8c31-415f-a824-0140c38d3d34",
   "metadata": {},
   "outputs": [
    {
     "data": {
      "text/plain": [
       "17"
      ]
     },
     "execution_count": 2,
     "metadata": {},
     "output_type": "execute_result"
    }
   ],
   "source": [
    "# This a simple arithmetic expression to mutiply then add integers\n",
    "(3*4)+5\n"
   ]
  },
  {
   "cell_type": "code",
   "execution_count": 3,
   "id": "a0f4db65-30b1-4c39-8aa4-d37fb72ec3a7",
   "metadata": {},
   "outputs": [
    {
     "data": {
      "text/plain": [
       "3.3333333333333335"
      ]
     },
     "execution_count": 3,
     "metadata": {},
     "output_type": "execute_result"
    }
   ],
   "source": [
    "# This will convert 200 minutes to hours by diving by 60\n",
    "200/60\n"
   ]
  },
  {
   "cell_type": "code",
   "execution_count": null,
   "id": "93d01cd9-c60e-47c1-bc4b-8df9c6d57c98",
   "metadata": {},
   "outputs": [],
   "source": []
  }
 ],
 "metadata": {
  "kernelspec": {
   "display_name": "Python 3 (ipykernel)",
   "language": "python",
   "name": "python3"
  },
  "language_info": {
   "codemirror_mode": {
    "name": "ipython",
    "version": 3
   },
   "file_extension": ".py",
   "mimetype": "text/x-python",
   "name": "python",
   "nbconvert_exporter": "python",
   "pygments_lexer": "ipython3",
   "version": "3.12.8"
  }
 },
 "nbformat": 4,
 "nbformat_minor": 5
}
